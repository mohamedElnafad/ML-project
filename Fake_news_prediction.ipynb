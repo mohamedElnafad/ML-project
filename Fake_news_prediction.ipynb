{
  "nbformat": 4,
  "nbformat_minor": 0,
  "metadata": {
    "colab": {
      "name": "Fake news prediction.ipynb",
      "provenance": [],
      "authorship_tag": "ABX9TyNZxDKSGQAyhainYZu6xk1A",
      "include_colab_link": true
    },
    "kernelspec": {
      "display_name": "Python 3",
      "name": "python3"
    },
    "language_info": {
      "name": "python"
    }
  },
  "cells": [
    {
      "cell_type": "markdown",
      "metadata": {
        "id": "view-in-github",
        "colab_type": "text"
      },
      "source": [
        "<a href=\"https://colab.research.google.com/github/mohamedElnafad/ML-project/blob/main/Fake_news_prediction.ipynb\" target=\"_parent\"><img src=\"https://colab.research.google.com/assets/colab-badge.svg\" alt=\"Open In Colab\"/></a>"
      ]
    },
    {
      "cell_type": "markdown",
      "metadata": {
        "id": "pDG43IifIxZa"
      },
      "source": [
        "Import the laibaries \n"
      ]
    },
    {
      "cell_type": "code",
      "metadata": {
        "id": "V7dIXxCFI52S"
      },
      "source": [
        "import pandas as pd\n",
        "import re\n",
        "from nltk.corpus import stopwords\n",
        "from sklearn.model_selection import train_test_split\n",
        "from nltk.stem import PorterStemmer\n",
        "from sklearn.feature_extraction.text import TfidfVectorizer\n",
        "from sklearn.linear_model import LogisticRegression\n",
        "from sklearn.metrics import accuracy_score"
      ],
      "execution_count": 98,
      "outputs": []
    },
    {
      "cell_type": "markdown",
      "metadata": {
        "id": "5PTCO4H5Kcbl"
      },
      "source": [
        "Getting the data set"
      ]
    },
    {
      "cell_type": "code",
      "metadata": {
        "colab": {
          "base_uri": "https://localhost:8080/",
          "height": 221
        },
        "id": "mmxTUD7ZKgW1",
        "outputId": "3046c742-aab0-4aca-d4d9-8bee323cf1a6"
      },
      "source": [
        "news_data = pd.read_csv('/content/train.csv',error_bad_lines=False, engine=\"python\")\n",
        "news_data.head(5)"
      ],
      "execution_count": 16,
      "outputs": [
        {
          "output_type": "stream",
          "text": [
            "Skipping line 1713: unexpected end of data\n"
          ],
          "name": "stderr"
        },
        {
          "output_type": "execute_result",
          "data": {
            "text/html": [
              "<div>\n",
              "<style scoped>\n",
              "    .dataframe tbody tr th:only-of-type {\n",
              "        vertical-align: middle;\n",
              "    }\n",
              "\n",
              "    .dataframe tbody tr th {\n",
              "        vertical-align: top;\n",
              "    }\n",
              "\n",
              "    .dataframe thead th {\n",
              "        text-align: right;\n",
              "    }\n",
              "</style>\n",
              "<table border=\"1\" class=\"dataframe\">\n",
              "  <thead>\n",
              "    <tr style=\"text-align: right;\">\n",
              "      <th></th>\n",
              "      <th>id</th>\n",
              "      <th>title</th>\n",
              "      <th>author</th>\n",
              "      <th>text</th>\n",
              "      <th>label</th>\n",
              "    </tr>\n",
              "  </thead>\n",
              "  <tbody>\n",
              "    <tr>\n",
              "      <th>0</th>\n",
              "      <td>0</td>\n",
              "      <td>House Dem Aide: We Didn’t Even See Comey’s Let...</td>\n",
              "      <td>Darrell Lucus</td>\n",
              "      <td>House Dem Aide: We Didn’t Even See Comey’s Let...</td>\n",
              "      <td>1</td>\n",
              "    </tr>\n",
              "    <tr>\n",
              "      <th>1</th>\n",
              "      <td>1</td>\n",
              "      <td>FLYNN: Hillary Clinton, Big Woman on Campus - ...</td>\n",
              "      <td>Daniel J. Flynn</td>\n",
              "      <td>Ever get the feeling your life circles the rou...</td>\n",
              "      <td>0</td>\n",
              "    </tr>\n",
              "    <tr>\n",
              "      <th>2</th>\n",
              "      <td>2</td>\n",
              "      <td>Why the Truth Might Get You Fired</td>\n",
              "      <td>Consortiumnews.com</td>\n",
              "      <td>Why the Truth Might Get You Fired October 29, ...</td>\n",
              "      <td>1</td>\n",
              "    </tr>\n",
              "    <tr>\n",
              "      <th>3</th>\n",
              "      <td>3</td>\n",
              "      <td>15 Civilians Killed In Single US Airstrike Hav...</td>\n",
              "      <td>Jessica Purkiss</td>\n",
              "      <td>Videos 15 Civilians Killed In Single US Airstr...</td>\n",
              "      <td>1</td>\n",
              "    </tr>\n",
              "    <tr>\n",
              "      <th>4</th>\n",
              "      <td>4</td>\n",
              "      <td>Iranian woman jailed for fictional unpublished...</td>\n",
              "      <td>Howard Portnoy</td>\n",
              "      <td>Print \\nAn Iranian woman has been sentenced to...</td>\n",
              "      <td>1</td>\n",
              "    </tr>\n",
              "  </tbody>\n",
              "</table>\n",
              "</div>"
            ],
            "text/plain": [
              "   id  ... label\n",
              "0   0  ...     1\n",
              "1   1  ...     0\n",
              "2   2  ...     1\n",
              "3   3  ...     1\n",
              "4   4  ...     1\n",
              "\n",
              "[5 rows x 5 columns]"
            ]
          },
          "metadata": {},
          "execution_count": 16
        }
      ]
    },
    {
      "cell_type": "code",
      "metadata": {
        "colab": {
          "base_uri": "https://localhost:8080/",
          "height": 272
        },
        "id": "a5EUjHciMDpN",
        "outputId": "d8861889-699c-4cfc-f633-dba1e881addf"
      },
      "source": [
        "news_data.tail()"
      ],
      "execution_count": 17,
      "outputs": [
        {
          "output_type": "execute_result",
          "data": {
            "text/html": [
              "<div>\n",
              "<style scoped>\n",
              "    .dataframe tbody tr th:only-of-type {\n",
              "        vertical-align: middle;\n",
              "    }\n",
              "\n",
              "    .dataframe tbody tr th {\n",
              "        vertical-align: top;\n",
              "    }\n",
              "\n",
              "    .dataframe thead th {\n",
              "        text-align: right;\n",
              "    }\n",
              "</style>\n",
              "<table border=\"1\" class=\"dataframe\">\n",
              "  <thead>\n",
              "    <tr style=\"text-align: right;\">\n",
              "      <th></th>\n",
              "      <th>id</th>\n",
              "      <th>title</th>\n",
              "      <th>author</th>\n",
              "      <th>text</th>\n",
              "      <th>label</th>\n",
              "    </tr>\n",
              "  </thead>\n",
              "  <tbody>\n",
              "    <tr>\n",
              "      <th>1706</th>\n",
              "      <td>1706</td>\n",
              "      <td>Islamic State Again Strikes at Afghan Shiites,...</td>\n",
              "      <td>Mujib Mashal and Fahim Abed</td>\n",
              "      <td>KABUL, Afghanistan  —   A suicide bomber struc...</td>\n",
              "      <td>0</td>\n",
              "    </tr>\n",
              "    <tr>\n",
              "      <th>1707</th>\n",
              "      <td>1707</td>\n",
              "      <td>WaPo Report: Mueller Investigating Donald Trum...</td>\n",
              "      <td>Michelle Moons</td>\n",
              "      <td>Recently appointed Special Counsel on the Russ...</td>\n",
              "      <td>0</td>\n",
              "    </tr>\n",
              "    <tr>\n",
              "      <th>1708</th>\n",
              "      <td>1708</td>\n",
              "      <td>Alabama Makes It Illegal to Remove Confederate...</td>\n",
              "      <td>Ryan Saavedra</td>\n",
              "      <td>The new law attempts to preserve history by ma...</td>\n",
              "      <td>0</td>\n",
              "    </tr>\n",
              "    <tr>\n",
              "      <th>1709</th>\n",
              "      <td>1709</td>\n",
              "      <td>Trump’s Thanksgiving Message From Three Years ...</td>\n",
              "      <td>NaN</td>\n",
              "      <td>Share on Facebook \\nIf there’s one thing we as...</td>\n",
              "      <td>1</td>\n",
              "    </tr>\n",
              "    <tr>\n",
              "      <th>1710</th>\n",
              "      <td>1710</td>\n",
              "      <td>U.S. Presidential Race, North Dakota, Syria: Y...</td>\n",
              "      <td>Andrea Kannapell and Lisa Iaboni</td>\n",
              "      <td>Here are the week’s top stories, and a look ah...</td>\n",
              "      <td>0</td>\n",
              "    </tr>\n",
              "  </tbody>\n",
              "</table>\n",
              "</div>"
            ],
            "text/plain": [
              "        id  ... label\n",
              "1706  1706  ...     0\n",
              "1707  1707  ...     0\n",
              "1708  1708  ...     0\n",
              "1709  1709  ...     1\n",
              "1710  1710  ...     0\n",
              "\n",
              "[5 rows x 5 columns]"
            ]
          },
          "metadata": {},
          "execution_count": 17
        }
      ]
    },
    {
      "cell_type": "code",
      "metadata": {
        "colab": {
          "base_uri": "https://localhost:8080/"
        },
        "id": "4zFxlJ5vMIBq",
        "outputId": "b8c2c265-aa63-4e5c-ab63-31ddf41b8a10"
      },
      "source": [
        "news_data.isnull().sum()"
      ],
      "execution_count": 18,
      "outputs": [
        {
          "output_type": "execute_result",
          "data": {
            "text/plain": [
              "id          0\n",
              "title      44\n",
              "author    185\n",
              "text        3\n",
              "label       0\n",
              "dtype: int64"
            ]
          },
          "metadata": {},
          "execution_count": 18
        }
      ]
    },
    {
      "cell_type": "code",
      "metadata": {
        "colab": {
          "base_uri": "https://localhost:8080/"
        },
        "id": "XFXUQUhEMMFT",
        "outputId": "b6b1a922-4829-4be9-c6a2-83184ea11f02"
      },
      "source": [
        "#remove missing values\n",
        "news_data.dropna(inplace=True)\n",
        "\n",
        "news_data.isnull().sum()"
      ],
      "execution_count": 20,
      "outputs": [
        {
          "output_type": "execute_result",
          "data": {
            "text/plain": [
              "id        0\n",
              "title     0\n",
              "author    0\n",
              "text      0\n",
              "label     0\n",
              "dtype: int64"
            ]
          },
          "metadata": {},
          "execution_count": 20
        }
      ]
    },
    {
      "cell_type": "markdown",
      "metadata": {
        "id": "PUVVwDi7MuyF"
      },
      "source": [
        ""
      ]
    },
    {
      "cell_type": "markdown",
      "metadata": {
        "id": "h_RBcNVDMwMb"
      },
      "source": [
        "Downloding the stopwords\n"
      ]
    },
    {
      "cell_type": "code",
      "metadata": {
        "colab": {
          "base_uri": "https://localhost:8080/"
        },
        "id": "imTejZDwM0e1",
        "outputId": "c552da5c-edc5-453f-8d6a-0a842da2c93d"
      },
      "source": [
        "import nltk\n",
        "nltk.download('stopwords')\n"
      ],
      "execution_count": 29,
      "outputs": [
        {
          "output_type": "stream",
          "text": [
            "[nltk_data] Downloading package stopwords to /root/nltk_data...\n",
            "[nltk_data]   Package stopwords is already up-to-date!\n"
          ],
          "name": "stdout"
        },
        {
          "output_type": "execute_result",
          "data": {
            "text/plain": [
              "True"
            ]
          },
          "metadata": {},
          "execution_count": 29
        }
      ]
    },
    {
      "cell_type": "code",
      "metadata": {
        "colab": {
          "base_uri": "https://localhost:8080/"
        },
        "id": "GkkmNlZNNGMs",
        "outputId": "49850b91-367c-4993-e810-15e41302f1bc"
      },
      "source": [
        "news_data['margin'] = news_data['title']+' '+news_data['text']\n",
        "print(news_data['margin'])"
      ],
      "execution_count": 71,
      "outputs": [
        {
          "output_type": "stream",
          "text": [
            "0       hous dem aid even see comey letter jason chaff...\n",
            "1       flynn hillari clinton big woman campu breitbar...\n",
            "2       truth might get fire truth might get fire octo...\n",
            "3       civilian kill singl us airstrik identifi video...\n",
            "4       iranian woman jail fiction unpublish stori wom...\n",
            "                              ...                        \n",
            "1705    quak near oklahoma oil hub caus substanti dama...\n",
            "1706    islam state strike afghan shiit kill least kab...\n",
            "1707    wapo report mueller investig donald trump poss...\n",
            "1708    alabama make illeg remov confeder monument new...\n",
            "1710    u presidenti race north dakota syria weekend b...\n",
            "Name: margin, Length: 1482, dtype: object\n"
          ],
          "name": "stdout"
        }
      ]
    },
    {
      "cell_type": "markdown",
      "metadata": {
        "id": "yf-s8N7oOOhA"
      },
      "source": [
        "Stemming fuction"
      ]
    },
    {
      "cell_type": "code",
      "metadata": {
        "id": "F8hDTugcOQ6C"
      },
      "source": [
        "porter = PorterStemmer()\n",
        "\n",
        "\n",
        "def stemming(text):\n",
        "  content = re.sub('[^a-zA-Z]', ' ', text)\n",
        "  content = content.lower()\n",
        "  content = content.split()\n",
        "  content = [porter.stem(word) for word in content if not word in stopwords.words('english')]\n",
        "  content = ' '.join(content)\n",
        "  return content\n"
      ],
      "execution_count": 65,
      "outputs": []
    },
    {
      "cell_type": "code",
      "metadata": {
        "id": "OpIX-WoLQJBp"
      },
      "source": [
        "news_data['margin'] = news_data['margin'].apply(stemming)\n"
      ],
      "execution_count": 88,
      "outputs": []
    },
    {
      "cell_type": "code",
      "metadata": {
        "colab": {
          "base_uri": "https://localhost:8080/"
        },
        "id": "jEt8ccB5ZA5I",
        "outputId": "b3b13bc6-02b1-4028-b488-564013c791dd"
      },
      "source": [
        "x = news_data['margin'].values\n",
        "y = news_data['label'].values\n",
        "print(x)\n",
        "print(y)"
      ],
      "execution_count": 92,
      "outputs": [
        {
          "output_type": "stream",
          "text": [
            "['hou dem aid even see comey letter jason chaffetz tweet hou dem aid even see comey letter jason chaffetz tweet darrel lucu octob subscrib jason chaffetz stump american fork utah imag courtesi michael jolley avail creativ common licen apolog keith olbermann doubt worst person world week fbi director jame comey accord hou democrat aid look like also know second worst person well turn comey sent infam letter announc fbi look email may relat hillari clinton email server rank democrat relev committ hear comey found via tweet one republican committ chairmen know comey notifi republican chairmen democrat rank member hou intellig judiciari oversight committ agenc review email recent discov order see contain classifi inform long letter went oversight committ chairman jason chaffetz set polit world ablaz tweet fbi dir inform fbi learn exist email appear pertin investig case reopen jason chaffetz jasonintheh octob cour know case comey actual say review email light unrel case know anthoni weiner sext teenag appar littl thing fact matter chaffetz utah republican alreadi vow initi raft investig hillari win least two year worth possibl entir term worth appar chaffetz thought fbi alreadi work result tweet briefli roil nation cooler head realiz dud accord senior hou democrat aid misread letter may least chaffetz sin aid told shareblu boss democrat even know comey letter time found check twitter democrat rank member relev committ receiv comey letter republican chairmen fact democrat rank member receiv chairman oversight govern reform committ jason chaffetz tweet made public let see got right fbi director tell chaffetz gop committ chairmen major develop potenti polit explo investig neither chaffetz colleagu courtesi let democrat counterpart know instead accord aid made find twitter alreadi talk daili ko comey provid advanc notic letter chaffetz republican give time turn spin machin may make good theater noth far even suggest case noth far suggest comey anyth grossli incompet tone deaf suggest howev chaffetz act way make dan burton darrel issa look like model respon bipartisanship even decenc notifi rank member elijah cum someth explo trampl basic standard fair know grant like chaffetz answer sit ridicul republican district anchor provo orem cook partisan vote index r gave mitt romney punish percent vote moreov republican hou leadership given full support chaffetz plan fish expedit mean turn hot light textbook exampl hou becom republican control also second worst person world darrel lucu darrel someth graduat univ north carolina consid journalist old school attempt turn member religi right colleg succeed turn religi right worst nightmar charismat christian unapologet liber desir stand scare silenc increa surviv abu three year marriag may know daili ko christian dem nc follow twitter darrelllucu connect facebook click buy darrel mello yello connect'\n",
            " 'flynn hillari clinton big woman campu breitbart ever get feel life circl roundabout rather head straight line toward intend destin hillari clinton remain big woman campu leafi liber wellesley massachusett everywh el vote like inaugur dress remaind day way miss havisham forev wore wed dress speak great expect hillari rodham overflow year ago first address wellesley graduat class presid colleg inform gather student need debat far could ascertain spokesman kind like democrat primari minu term unknown even seven sister school glad miss adam made clear speak today us us miss rodham told classmat appoint edger bergen charli mccarthi mortim snerd attend bespectacl granni glass award matronli wisdom least john lennon wisdom took issu previou speaker despit becom first win elect seat u senat sinc reconstruct edward brook came critic call empathi goal protestor critic tactic though clinton senior thesi saul alinski lament black power demagogu elitist arrog repress intol within new left similar word come republican necessit brief rebutt trust rodham iron observ one word ask class rehear want say everyon came said talk trust talk lack trust us way feel talk trust bust say say feel permeat gener perhap even understood distrust trust bust certainli bust clinton plan certainli even understand peopl distrust whitewat travelg vast conspiraci benghazi miss email clinton found distrust voic friday load compromi road broaden polit horizon distrust american peopl trump edg percent percent question immedi prior novemb elect stood major reason close horizon clinton describ vanquish support embrac lie con altern fact assault truth reason fail explain american peopl chose lie truth histori major among today know well peopl power invent fact attack question mark begin end free societi offer hyperbol like mani peopl emerg hillari clinton embark upon long strang trip high school goldwat girl wellesley colleg republican presid democrat politician clinton drank time place gave degr significantli went idealist cynic comparison two wellesley commenc address show way back lament long leader view polit art possibl challeng practic polit art make appear imposs possibl big woman campu odd woman white hou wonder current station even possibl point ahead ask septemb may ask presid woman famou dub congenit liar bill safir conclud lie mind get stood elect day like find jilt bride wed day inspir danger delu'\n",
            " 'truth might get fire truth might get fire octob tension intellig analyst polit policymak alway honest assess desir result latter often overwhelm former iraq war write lawrenc davidson lawrenc davidson might wonder foreign polici maker repeatedli make bad choic insight might drawn follow analysi action play unit state lesson probabl univ back earli spring georg w bush initi inva iraq one key public reason claim countri dictat saddam hussein verg develop nuclear weapon hide weapon mass destruct real reason went beyond charg includ long rang plan regim chang middl east presid georg w bush vice presid dick cheney receiv oval offic brief cia director georg tenet also present chief staff andi card right white hou photo purpo concentr belief iraq becom hostil nuclear power presid bush close associ accept scenario readili short answer bush want ind need believ ration invad iraq first tri connect saddam hussein attack u though never gave stratagem lack evid made difficult ralli american peopl alreadi fixat afghanistan support war baghdad nuclear weapon gambit prove fruit hard evid charg supposedli reliabl wit person exil anti saddam iraqi mani u govern payrol kept tell bush advi nuclear stori true u leadership cadr whose worldview liter demand mortal danger iraq inform order precipit overthrow saddam tell tale pend atom weapon strong desir believ tale nuclear iraq lower threshold proof likewi repeat assert assum depend iraqi sourc underpin nationwid u campaign gener fear war fever u alli insist unit nation send weapon inspector scour iraq evid nuclear weapon program well chemic biolog weapon inspector could find convinc evid frustrat bush administr soon forc hand march bush launch inva iraq expect occup countri u inspector would sure find evid nuke least stockpil chemic biolog weapon iraqi inform systemat lie social behavior scienc rescu variou u intellig agenc thoroughli shaken affair today year later director manag still tri sort specif tell get true intellig lie one intellig worker put need help protect us armi snake oil salesmen end cia et al market academ assist ahm chalabi head iraqi nation congress key supplier iraqi defector bogu stori hidden wmd partnership forg offic director nation intellig odni serv coordin center sixteen independ u intellig agenc nation academi scienc engin medicin result collabor perman intellig commun studi board coordin program social behavior scienc research might strengthen nation secur despit effort almost certain social behavior scienc cannot give spi agenc want way detect lie better present standard procedur polygraph test interrog even could might well make differ real problem found liar found believ believ simpli true odni leader seem assert u intellig agenc personnel cannot tell often lie case thousand middl echelon intellig worker desk offic specialist know someth close approach truth know pretti well go place like afghanistan iraq syria libya israel palestin elsewh director nation intellig jame clapper right talk presid barack obama oval offic john brennan nation secur aid present photo credit offic director nation intellig therefor someon feed snake oil usual know howev accur grasp thing often avail superior got appoint accept pre structur worldview differ criterion true analyst listen charl gaukel nation intellig council yet anoth organ act meet ground intellig agenc refer search way avoid get taken lie gaukel declar look truth particularli look truth work might mean certainli tell mean histor mean power broker truth must match fit worldview polit ideolog precept fit work intellig specialist send usual accur assess line polici maker often hit roadblock cau group think ideolog blinker know better attitud hand long sell leadership match want believ peddl anyth imaginari iraqi nuke israel western style democraci saudi arabia indispen alli libya liber countri bashar al assad real roadblock peac syria strateg defen initi sdi aka star war world get colder warmer american except glori list almost endless sad tale tell us want spend million dollar social behavior scienc research improv assess use intellig forget liar want look antidot narrow mind believ policymak seem abl rise ideolog presumpt class presumpt underpin self confid lead us slipperi slope happen way often mani place sourc shakespear determin past prelud elit play destini free capac break structur way see yet middl echelon specialist keep send rel accur assess ladder power hope spring etern'\n",
            " ...\n",
            " 'wapo report mueller investig donald trump possibl obstruct justic breitbart recent appoint special counsel russia investig robert mueller begun process interview senior intellig offici part investig presid donald trump conduct accord washington post report cite anonym offici post report accord five offici brief request interview includ director nation intellig daniel coat nation secur agenc head mike roger roger former deputi richard ledgett said three agr interview mueller team interview could happen within day post also report accord peopl familiar matter investig trump began shortli presid fire director jame comey peopl also told outlet investig look peopl insid outsid govern attest presid comment fire comey russia investig comey reveal last week hear senat intellig committ inform presid trump three time presid fbi investig former fbi director fail reveal inform publicli still posit testimoni comey also reveal leak memo contain note februari meet trump mueller probe look possibl contact trump russian oper potenti suspici financ deal individu accord post report add offici say mueller interest march conver trump coat cia director mike pompeo accord offici spoke post coat told associ presid ask interven comey regard investig former nation secur advi mike flynn report state coat later told lawmak never felt pressur interven phone request presid coat roger day later ask public statement deni coordin trump presidenti campaign russian offici told post ad coat roger refu compli anonym offici said ledgett contact trump uncertain wrote memo call roger trump news come news broke brought mueller investig team question cnn report three member mueller russia investig team donat democrat includ hillari clinton campaign presid report cite feder elect commiss record cnn report half came one lawyer half donat elect two lawyer gave maximum donat hillari clinton last year follow michel moon twitter michellediana'\n",
            " 'alabama make illeg remov conf monument new law attempt preserv histori make illeg remov monument place year alabama memori preserv act sign law wednesday alabama gov kay ivey r protect histor conf monument come fire recent week democrat politician new legisl prohibit reloc remov alter renam disturb architectur signif build memori build memori street monument locat public properti place year state sen gerald allen propo bill note protect monument preserv histori futur gener learn huffington post report appreci gov ivey stand thought preserv alabama histori allen said contrari detractor say memori preserv act intend preserv alabama histori good bad children grandchildren learn past creat better futur last week new orlean mayor mitch landrieu famou civil war era monument robert e lee remov place center citi famou traffic circl place centuri breitbart texa report men fight unit state america fought may warrior cau patriot landrieu said monument celebr fiction sanit confederaci februari citi charlottesvil virginia also vote remov statu robert e lee stood citi park nearli centuri breitbart report deci era histori citi spark outrag peopl gather protest peac sever week eventu two organ local citizen came togeth file lawsuit citi charlottesvil stop remov histor conf monument state alreadi taken step preserv histor monument would seek rewrit histori mississippi statu monument memori landmark war remov public properti unless move anoth approv locat block driver see wlbt report ebay announc would prohibit sale conf flag follow june attack emanuel african methodist episcop church craze gunman dylann roof conf flag reportedli sell like crack announc ryan saavedra contributor breitbart texa found twitter realsaavedra'\n",
            " 'u presidenti race north dakota syria weekend brief new york time week top stori look ahead north korea conduct power nuclear test showca increa masteri atom weaponri confront u new diplomat secur challeng militari expert said increa experti pair headway develop intercontin ballist missil could bring contin u reach nuclear warhead analyst say north korea cultiv sen unpredict verg irrat fact govern remain coldli calcul edg brink war keep aggressor bay savag oppress peopl cow protest south korea presid obama back washington trip asia visit lao recogn scar u secret war vietnam conflict stand alongsid leader china formal commit world two largest economi pari climat agreement mr obama push hard measur fight climat chang log histor achiev abroad frustrat setback home watch interview mr obama race succeed mr obama eight week go get even inten hillari clinton donald trump clash nation secur mr trump propo drop spend cap militari mr clinton pledg never send u soldier back iraq syria candid made statement drew inten critic mr trump back vladimir putin drew remind russian leader harshli oppress tactic territori aggress mr clinton charact half mr trump support basket deplor racist sexist homophob xenophob islamaphob name empow u today commemor th anniversari sept attack deadliest terrorist attack u soil nation septemb memori museum ground zero portrait almost nearli peopl kill day new york washington pennsylvania seven still sought help may better way understand passeng flight fought hijack brought plane shanksvil pa kill aboard listen robert franz interpret park ranger memori uber introduc fleet car pittsburgh within day human monitor driver seat test technolog also demonstr greenlight govern e give tech compani help lot freedom pittsburgh offici help uber lea riverfront land test track ward new state regul either put red tape roll red carpet mayor said want laboratori technolog put carpet colleg campu around nation step discuss microaggress trigger address racism diver sexual consent excess drink fall orient program school find bind racist episod sharpli depress enrol least one univ alumni upset current colleg cultur includ effort silenc whose opinion differ close wallet obama administr made unusu interv protest north dakota temporarili block construct part dakota access oil pipelin minut feder judg clear project thousand nativ american activist protest warn section pipelin go river potenti foul tribal water suppli ancestr cultur site justic depart agenc call discuss give greater consid tribe view type infrastructur project public health expert rai alarm zika partisan fight kept congress ad fund combat viru urgent need measur puerto rico florida risk fear zika spread along gulf coast grow peak mosquito season end novemb lawmak go wire fund govern point stopgap measur keep light sept presid obama invit congress leader white hou monday discuss prioriti u russia month fail talk agr embark new approach syria deal depend russia restrain syria loyalist forc u persuad opposit group support separ nusra front affili al qaeda wound syrian boy comfort anoth u accept syrian refug place look like young refug tri fit ordinari american high school cloth buy least order big news open fall fashion season new york fashion week follow fashion week london milan pari also prove cloth longer enough show provid experi critic look two repr case kani west perform piec tom ford even dinner theater matter select physic attend write instagram facebook post invit follow tri get closer get product room final research found fascin new aspect live bonobo endang primat one closest rel fame hypersexu bonobo also form strong bond among femal weak one among male sharp contrast close relat chimpanz fact senior femal lead coalit two junior drive harass male matriarchi primatologist said femal run show great week weekend brief publish sunday eastern miss morn brief weekday eastern even brief weeknight p eastern want look back friday even brief like want see let us know brief nytim com']\n",
            "[1 0 1 ... 0 0 0]\n"
          ],
          "name": "stdout"
        }
      ]
    },
    {
      "cell_type": "code",
      "metadata": {
        "colab": {
          "base_uri": "https://localhost:8080/"
        },
        "id": "IUNbPXnVY1zt",
        "outputId": "b2ac5a74-67dc-429b-a4f4-35a7a4348418"
      },
      "source": [
        " vectorizer = TfidfVectorizer()\n",
        " vectorizer.fit(x)\n",
        " X = vectorizer.fit_transform(x)\n",
        " print(X)"
      ],
      "execution_count": 95,
      "outputs": [
        {
          "output_type": "stream",
          "text": [
            "  (0, 29336)\t0.04367207891098682\n",
            "  (0, 16241)\t0.04367207891098682\n",
            "  (0, 3671)\t0.021834444616903672\n",
            "  (0, 4820)\t0.024156474342354784\n",
            "  (0, 8858)\t0.01898487679470995\n",
            "  (0, 5354)\t0.038108334833657935\n",
            "  (0, 6269)\t0.04367207891098682\n",
            "  (0, 9565)\t0.012176673512787674\n",
            "  (0, 17553)\t0.0370113426271432\n",
            "  (0, 15868)\t0.02649469329890385\n",
            "  (0, 26239)\t0.01435036213355901\n",
            "  (0, 142)\t0.022534783477519162\n",
            "  (0, 25489)\t0.023689870059455987\n",
            "  (0, 12652)\t0.0177996353732018\n",
            "  (0, 23830)\t0.02812114121650904\n",
            "  (0, 22896)\t0.028606429222803376\n",
            "  (0, 24773)\t0.017415434057444015\n",
            "  (0, 6768)\t0.02298408999278197\n",
            "  (0, 14915)\t0.01956272939966484\n",
            "  (0, 27167)\t0.036372556208344495\n",
            "  (0, 4588)\t0.050236149963621884\n",
            "  (0, 4359)\t0.03853502768725975\n",
            "  (0, 17838)\t0.03057942079818273\n",
            "  (0, 25274)\t0.024488769195817855\n",
            "  (0, 5029)\t0.021059408341882378\n",
            "  :\t:\n",
            "  (1481, 27033)\t0.04786445309196078\n",
            "  (1481, 14697)\t0.04325615066625721\n",
            "  (1481, 15978)\t0.024791874097287076\n",
            "  (1481, 8868)\t0.04493166630839422\n",
            "  (1481, 14979)\t0.030136397477924997\n",
            "  (1481, 22853)\t0.014668015490915188\n",
            "  (1481, 4068)\t0.021525602437860898\n",
            "  (1481, 18575)\t0.0223811567482215\n",
            "  (1481, 453)\t0.02572874039449768\n",
            "  (1481, 18469)\t0.03744105703665677\n",
            "  (1481, 9699)\t0.02076974171121822\n",
            "  (1481, 4848)\t0.06287588812827441\n",
            "  (1481, 11807)\t0.021500170937653187\n",
            "  (1481, 21644)\t0.025525101472936476\n",
            "  (1481, 16017)\t0.01752870262151128\n",
            "  (1481, 14201)\t0.01746446913981615\n",
            "  (1481, 794)\t0.04113503573494686\n",
            "  (1481, 14996)\t0.02711375493289667\n",
            "  (1481, 15233)\t0.07116186580090339\n",
            "  (1481, 28656)\t0.08796705955554888\n",
            "  (1481, 29116)\t0.01823330700634288\n",
            "  (1481, 887)\t0.03316510635329855\n",
            "  (1481, 23194)\t0.018285879165922923\n",
            "  (1481, 8620)\t0.06004626324229869\n",
            "  (1481, 12090)\t0.018999769081713316\n"
          ],
          "name": "stdout"
        }
      ]
    },
    {
      "cell_type": "markdown",
      "metadata": {
        "id": "KyY_xbnUeFS4"
      },
      "source": [
        "Spiltting data to train and test"
      ]
    },
    {
      "cell_type": "code",
      "metadata": {
        "id": "mCaPDcqseJNw"
      },
      "source": [
        "xtrain, xtest, ytrain, ytest = train_test_split(X, y, train_size = 0.2, random_state=2)"
      ],
      "execution_count": 97,
      "outputs": []
    },
    {
      "cell_type": "markdown",
      "metadata": {
        "id": "XMMR6z3MeltI"
      },
      "source": [
        "creat model"
      ]
    },
    {
      "cell_type": "code",
      "metadata": {
        "colab": {
          "base_uri": "https://localhost:8080/"
        },
        "id": "xJyG7_rJenp3",
        "outputId": "aca1e8c1-7f55-4a90-a5bb-15034802ddbf"
      },
      "source": [
        "model = LogisticRegression()\n",
        "model.fit(xtrain, ytrain)"
      ],
      "execution_count": 99,
      "outputs": [
        {
          "output_type": "execute_result",
          "data": {
            "text/plain": [
              "LogisticRegression(C=1.0, class_weight=None, dual=False, fit_intercept=True,\n",
              "                   intercept_scaling=1, l1_ratio=None, max_iter=100,\n",
              "                   multi_class='auto', n_jobs=None, penalty='l2',\n",
              "                   random_state=None, solver='lbfgs', tol=0.0001, verbose=0,\n",
              "                   warm_start=False)"
            ]
          },
          "metadata": {},
          "execution_count": 99
        }
      ]
    },
    {
      "cell_type": "code",
      "metadata": {
        "colab": {
          "base_uri": "https://localhost:8080/"
        },
        "id": "3l-49swJfDjA",
        "outputId": "3cca2dd0-ae63-4331-b1b0-67af2c73579e"
      },
      "source": [
        "prediction = model.predict(xtrain)\n",
        "print(prediction)"
      ],
      "execution_count": 105,
      "outputs": [
        {
          "output_type": "stream",
          "text": [
            "[0 0 0 1 0 0 0 0 0 0 1 0 1 0 0 0 1 0 1 1 0 0 1 1 1 0 1 1 1 1 0 1 0 0 0 1 0\n",
            " 0 1 0 0 0 0 1 1 0 0 1 1 0 0 1 0 1 0 1 0 1 0 0 1 1 0 0 1 0 1 0 0 0 0 0 1 0\n",
            " 0 0 0 0 0 0 0 0 0 1 0 0 0 1 0 0 1 1 0 0 0 1 0 1 0 1 0 1 1 0 1 0 0 1 1 0 0\n",
            " 0 1 0 0 1 1 0 0 1 1 0 0 0 0 0 0 0 0 0 1 1 0 1 0 0 1 0 0 0 0 1 0 1 0 1 0 0\n",
            " 1 1 1 0 0 0 1 0 0 1 0 1 1 1 0 1 1 0 1 0 0 0 1 0 1 0 0 1 1 1 1 1 1 1 0 1 1\n",
            " 0 1 1 0 1 1 0 1 0 1 0 1 1 0 1 1 0 0 1 0 1 1 0 1 0 0 1 0 1 1 0 1 1 1 0 0 1\n",
            " 0 0 0 0 1 1 0 0 1 0 0 0 0 1 0 0 1 0 0 1 0 0 1 1 0 1 0 1 0 1 0 0 1 0 1 0 1\n",
            " 0 1 1 1 1 0 1 1 1 0 1 0 0 0 0 0 0 0 1 1 0 1 0 0 0 0 1 1 1 1 0 0 0 1 1 0 1]\n"
          ],
          "name": "stdout"
        }
      ]
    },
    {
      "cell_type": "code",
      "metadata": {
        "colab": {
          "base_uri": "https://localhost:8080/"
        },
        "id": "M9gKTC5VfZRL",
        "outputId": "e7aaeb8e-7f11-4544-e4f4-62e78e4e9866"
      },
      "source": [
        "accuracy = accuracy_score(prediction,ytrain)\n",
        "print('accuracy for training',accuracy)"
      ],
      "execution_count": 115,
      "outputs": [
        {
          "output_type": "stream",
          "text": [
            "accuracy for training 0.9864864864864865\n"
          ],
          "name": "stdout"
        }
      ]
    },
    {
      "cell_type": "code",
      "metadata": {
        "id": "WAT5dRjff9Vg"
      },
      "source": [
        "predict_test = model.predict(xtest)"
      ],
      "execution_count": 110,
      "outputs": []
    },
    {
      "cell_type": "code",
      "metadata": {
        "colab": {
          "base_uri": "https://localhost:8080/"
        },
        "id": "F7WwhZuDf1a8",
        "outputId": "4e5873da-5a49-4d9e-da14-b86ccfdc5f74"
      },
      "source": [
        "test_acc = accuracy_score(predict_test, ytest)\n",
        "print('accuracy for training',test_acc)"
      ],
      "execution_count": 116,
      "outputs": [
        {
          "output_type": "stream",
          "text": [
            "accuracy for training 0.8338954468802698\n"
          ],
          "name": "stdout"
        }
      ]
    }
  ]
}